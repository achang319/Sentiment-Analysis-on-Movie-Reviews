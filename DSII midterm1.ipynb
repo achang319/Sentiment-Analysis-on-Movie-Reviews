{
 "cells": [
  {
   "cell_type": "code",
   "execution_count": 1,
   "metadata": {},
   "outputs": [
    {
     "name": "stderr",
     "output_type": "stream",
     "text": [
      "/anaconda3/lib/python3.6/importlib/_bootstrap.py:219: RuntimeWarning: numpy.ufunc size changed, may indicate binary incompatibility. Expected 192 from C header, got 216 from PyObject\n",
      "  return f(*args, **kwds)\n"
     ]
    }
   ],
   "source": [
    "import pandas as pd\n",
    "import numpy as np\n",
    "import glob, os, string, re, spacy\n",
    "from nltk.stem import WordNetLemmatizer\n",
    "from nltk.corpus import stopwords \n",
    "from sklearn.feature_extraction.text import TfidfVectorizer\n",
    "from sklearn.metrics import classification_report, accuracy_score"
   ]
  },
  {
   "cell_type": "code",
   "execution_count": 2,
   "metadata": {},
   "outputs": [],
   "source": [
    "train_pos_files = glob.glob(\"datasets/train/pos/*.txt\")\n",
    "train_neg_files = glob.glob(\"datasets/train/neg/*.txt\")\n",
    "train_pos_ls = []\n",
    "for i in train_pos_files:\n",
    "    file = open(i, \"r\")\n",
    "    str = file.readline()\n",
    "    clean = re.compile('<.*?>')\n",
    "    str = re.sub(clean, ' ', str)\n",
    "    train_pos_ls.append(str)\n",
    "    \n",
    "train_neg_ls = []\n",
    "for i in train_neg_files:\n",
    "    file = open(i, \"r\")\n",
    "    str = file.readline()\n",
    "    clean = re.compile('<.*?>')\n",
    "    str = re.sub(clean, ' ', str)\n",
    "    train_neg_ls.append(str)\n",
    "    \n"
   ]
  },
  {
   "cell_type": "code",
   "execution_count": 3,
   "metadata": {},
   "outputs": [],
   "source": [
    "labels = ['reveiw', 'label']\n",
    "df_train_pos = pd.DataFrame()\n",
    "df_train_pos['review'] = train_pos_ls\n",
    "df_train_pos['label'] = 1\n",
    "df_train_neg = pd.DataFrame()\n",
    "df_train_neg['review'] = train_neg_ls\n",
    "df_train_neg['label'] = -1\n",
    "df_train = pd.concat([df_train_pos , df_train_neg])\n"
   ]
  },
  {
   "cell_type": "code",
   "execution_count": 4,
   "metadata": {},
   "outputs": [],
   "source": [
    "test_pos_files = glob.glob(\"datasets/test/pos/*.txt\")\n",
    "test_neg_files = glob.glob(\"datasets/test/neg/*.txt\")\n",
    "test_pos_ls = []\n",
    "for i in test_pos_files:\n",
    "    file = open(i, \"r\")\n",
    "    str = file.readline()\n",
    "    clean = re.compile('<.*?>')\n",
    "    str = re.sub(clean, ' ', str)\n",
    "    test_pos_ls.append(str)\n",
    "    \n",
    "test_neg_ls = []\n",
    "for i in test_neg_files:\n",
    "    file = open(i, \"r\")\n",
    "    str = file.readline()\n",
    "    clean = re.compile('<.*?>')\n",
    "    str = re.sub(clean, ' ', str)\n",
    "    test_neg_ls.append(str)\n",
    "    "
   ]
  },
  {
   "cell_type": "code",
   "execution_count": 5,
   "metadata": {},
   "outputs": [
    {
     "data": {
      "text/html": [
       "<div>\n",
       "<style scoped>\n",
       "    .dataframe tbody tr th:only-of-type {\n",
       "        vertical-align: middle;\n",
       "    }\n",
       "\n",
       "    .dataframe tbody tr th {\n",
       "        vertical-align: top;\n",
       "    }\n",
       "\n",
       "    .dataframe thead th {\n",
       "        text-align: right;\n",
       "    }\n",
       "</style>\n",
       "<table border=\"1\" class=\"dataframe\">\n",
       "  <thead>\n",
       "    <tr style=\"text-align: right;\">\n",
       "      <th></th>\n",
       "      <th>review</th>\n",
       "      <th>label</th>\n",
       "    </tr>\n",
       "  </thead>\n",
       "  <tbody>\n",
       "    <tr>\n",
       "      <th>0</th>\n",
       "      <td>Based on an actual story, John Boorman shows t...</td>\n",
       "      <td>1</td>\n",
       "    </tr>\n",
       "    <tr>\n",
       "      <th>1</th>\n",
       "      <td>This is a gem. As a Film Four production - the...</td>\n",
       "      <td>1</td>\n",
       "    </tr>\n",
       "    <tr>\n",
       "      <th>2</th>\n",
       "      <td>I really like this show. It has drama, romance...</td>\n",
       "      <td>1</td>\n",
       "    </tr>\n",
       "    <tr>\n",
       "      <th>3</th>\n",
       "      <td>This is the best 3-D experience Disney has at ...</td>\n",
       "      <td>1</td>\n",
       "    </tr>\n",
       "    <tr>\n",
       "      <th>4</th>\n",
       "      <td>Of the Korean movies I've seen, only three had...</td>\n",
       "      <td>1</td>\n",
       "    </tr>\n",
       "  </tbody>\n",
       "</table>\n",
       "</div>"
      ],
      "text/plain": [
       "                                              review  label\n",
       "0  Based on an actual story, John Boorman shows t...      1\n",
       "1  This is a gem. As a Film Four production - the...      1\n",
       "2  I really like this show. It has drama, romance...      1\n",
       "3  This is the best 3-D experience Disney has at ...      1\n",
       "4  Of the Korean movies I've seen, only three had...      1"
      ]
     },
     "execution_count": 5,
     "metadata": {},
     "output_type": "execute_result"
    }
   ],
   "source": [
    "labels = ['reveiw', 'label']\n",
    "df_test_pos = pd.DataFrame()\n",
    "df_test_pos['review'] = test_pos_ls\n",
    "df_test_pos['label'] = 1\n",
    "df_test_neg = pd.DataFrame()\n",
    "df_test_neg['review'] = test_neg_ls\n",
    "df_test_neg['label'] = -1\n",
    "df_test = pd.concat([df_test_pos , df_test_neg])\n",
    "df_test.head()"
   ]
  },
  {
   "cell_type": "code",
   "execution_count": 6,
   "metadata": {},
   "outputs": [],
   "source": [
    "lemma = WordNetLemmatizer()\n",
    "stops = set(stopwords.words('english'))\n",
    "\n",
    "# nltk stopwords removal performs better than spacy \n",
    "# nlp = spacy.load('en_core_web_sm')\n",
    "# spacy_stopwords = spacy.lang.en.stop_words.STOP_WORDS\n",
    "            \n",
    "def text_prep(text):\n",
    "    no_punct = [char for char in text if char not in string.punctuation]\n",
    "    text = \"\".join(no_punct)\n",
    "    text = [lemma.lemmatize(text, pos='v') for text in text.lower().split() if text not in stops] \n",
    "    text = \" \".join(text)\n",
    "    return (text)\n"
   ]
  },
  {
   "cell_type": "code",
   "execution_count": 7,
   "metadata": {},
   "outputs": [
    {
     "data": {
      "text/html": [
       "<div>\n",
       "<style scoped>\n",
       "    .dataframe tbody tr th:only-of-type {\n",
       "        vertical-align: middle;\n",
       "    }\n",
       "\n",
       "    .dataframe tbody tr th {\n",
       "        vertical-align: top;\n",
       "    }\n",
       "\n",
       "    .dataframe thead th {\n",
       "        text-align: right;\n",
       "    }\n",
       "</style>\n",
       "<table border=\"1\" class=\"dataframe\">\n",
       "  <thead>\n",
       "    <tr style=\"text-align: right;\">\n",
       "      <th></th>\n",
       "      <th>prep_review</th>\n",
       "      <th>label</th>\n",
       "    </tr>\n",
       "  </thead>\n",
       "  <tbody>\n",
       "    <tr>\n",
       "      <th>0</th>\n",
       "      <td>movie get respect sure lot memorable quote lis...</td>\n",
       "      <td>1</td>\n",
       "    </tr>\n",
       "    <tr>\n",
       "      <th>1</th>\n",
       "      <td>bizarre horror movie fill famous face steal cr...</td>\n",
       "      <td>1</td>\n",
       "    </tr>\n",
       "    <tr>\n",
       "      <th>2</th>\n",
       "      <td>solid unremarkable film matthau einstein wonde...</td>\n",
       "      <td>1</td>\n",
       "    </tr>\n",
       "    <tr>\n",
       "      <th>3</th>\n",
       "      <td>strange feel sit alone theater occupy parent r...</td>\n",
       "      <td>1</td>\n",
       "    </tr>\n",
       "    <tr>\n",
       "      <th>4</th>\n",
       "      <td>probably already know 5 additional episodes ne...</td>\n",
       "      <td>1</td>\n",
       "    </tr>\n",
       "  </tbody>\n",
       "</table>\n",
       "</div>"
      ],
      "text/plain": [
       "                                         prep_review  label\n",
       "0  movie get respect sure lot memorable quote lis...      1\n",
       "1  bizarre horror movie fill famous face steal cr...      1\n",
       "2  solid unremarkable film matthau einstein wonde...      1\n",
       "3  strange feel sit alone theater occupy parent r...      1\n",
       "4  probably already know 5 additional episodes ne...      1"
      ]
     },
     "execution_count": 7,
     "metadata": {},
     "output_type": "execute_result"
    }
   ],
   "source": [
    "# preprocess training data\n",
    "df_train['prep_review'] = df_train['review'].apply(lambda x:text_prep(x))\n",
    "df_train[['prep_review', 'label']].head()"
   ]
  },
  {
   "cell_type": "code",
   "execution_count": 8,
   "metadata": {},
   "outputs": [
    {
     "data": {
      "text/html": [
       "<div>\n",
       "<style scoped>\n",
       "    .dataframe tbody tr th:only-of-type {\n",
       "        vertical-align: middle;\n",
       "    }\n",
       "\n",
       "    .dataframe tbody tr th {\n",
       "        vertical-align: top;\n",
       "    }\n",
       "\n",
       "    .dataframe thead th {\n",
       "        text-align: right;\n",
       "    }\n",
       "</style>\n",
       "<table border=\"1\" class=\"dataframe\">\n",
       "  <thead>\n",
       "    <tr style=\"text-align: right;\">\n",
       "      <th></th>\n",
       "      <th>prep_review</th>\n",
       "      <th>label</th>\n",
       "    </tr>\n",
       "  </thead>\n",
       "  <tbody>\n",
       "    <tr>\n",
       "      <th>0</th>\n",
       "      <td>base actual story john boorman show struggle a...</td>\n",
       "      <td>1</td>\n",
       "    </tr>\n",
       "    <tr>\n",
       "      <th>1</th>\n",
       "      <td>gem film four production anticipate quality in...</td>\n",
       "      <td>1</td>\n",
       "    </tr>\n",
       "    <tr>\n",
       "      <th>2</th>\n",
       "      <td>really like show drama romance comedy roll one...</td>\n",
       "      <td>1</td>\n",
       "    </tr>\n",
       "    <tr>\n",
       "      <th>3</th>\n",
       "      <td>best 3d experience disney themeparks certainly...</td>\n",
       "      <td>1</td>\n",
       "    </tr>\n",
       "    <tr>\n",
       "      <th>4</th>\n",
       "      <td>korean movies ive see three really stick first...</td>\n",
       "      <td>1</td>\n",
       "    </tr>\n",
       "  </tbody>\n",
       "</table>\n",
       "</div>"
      ],
      "text/plain": [
       "                                         prep_review  label\n",
       "0  base actual story john boorman show struggle a...      1\n",
       "1  gem film four production anticipate quality in...      1\n",
       "2  really like show drama romance comedy roll one...      1\n",
       "3  best 3d experience disney themeparks certainly...      1\n",
       "4  korean movies ive see three really stick first...      1"
      ]
     },
     "execution_count": 8,
     "metadata": {},
     "output_type": "execute_result"
    }
   ],
   "source": [
    "# preprocess testing data\n",
    "df_test['prep_review'] = df_test['review'].apply(lambda x:text_prep(x))\n",
    "df_test[['prep_review', 'label']].head()"
   ]
  },
  {
   "cell_type": "code",
   "execution_count": 9,
   "metadata": {},
   "outputs": [],
   "source": [
    "# Vectorizing training data \n",
    "tfidf = TfidfVectorizer()\n",
    "# tfidf = TfidfVectorizer(ngram_range = (1,3)) did not improve accuracy\n",
    "x_train = tfidf.fit_transform(df_train['prep_review'])\n",
    "y_train = df_train['label']"
   ]
  },
  {
   "cell_type": "code",
   "execution_count": 10,
   "metadata": {},
   "outputs": [],
   "source": [
    "# Vectorizing testing data \n",
    "x_test = tfidf.transform(df_test['prep_review'])\n",
    "y_test = df_test['label']"
   ]
  },
  {
   "cell_type": "code",
   "execution_count": 11,
   "metadata": {},
   "outputs": [
    {
     "name": "stdout",
     "output_type": "stream",
     "text": [
      "0.93528\n",
      "0.88336\n"
     ]
    }
   ],
   "source": [
    "from sklearn.linear_model import LogisticRegression\n",
    "LR = LogisticRegression(solver = 'lbfgs', n_jobs = -1)\n",
    "LR.fit(x_train, y_train)\n",
    "LR_clf = LR.predict(x_test)\n",
    "print (LR.score(x_train, y_train))\n",
    "print (accuracy_score(y_test, LR_clf))\n"
   ]
  },
  {
   "cell_type": "code",
   "execution_count": 12,
   "metadata": {},
   "outputs": [
    {
     "name": "stdout",
     "output_type": "stream",
     "text": [
      "1.0\n",
      "0.7096\n"
     ]
    }
   ],
   "source": [
    "from sklearn.tree import DecisionTreeClassifier\n",
    "DT = DecisionTreeClassifier()\n",
    "DT.fit(x_train, y_train)\n",
    "DT_clf = DT.predict(x_test)\n",
    "print (DT.score(x_train, y_train))\n",
    "print (accuracy_score(y_test, DT_clf))"
   ]
  },
  {
   "cell_type": "code",
   "execution_count": 13,
   "metadata": {},
   "outputs": [],
   "source": [
    "# slow and low accuracy\n",
    "# from sklearn.svm import SVC\n",
    "# SVM = SVC(gamma = 'scale')\n",
    "# SVM.fit(x_train, y_train)\n",
    "# SVM_clf = SVM.predict(x_test)\n",
    "# print (SVM.score(x_train, y_train))\n",
    "# print (SVM.score(x_test, y_test))"
   ]
  },
  {
   "cell_type": "code",
   "execution_count": 14,
   "metadata": {},
   "outputs": [
    {
     "name": "stdout",
     "output_type": "stream",
     "text": [
      "0.99128\n",
      "0.87264\n"
     ]
    }
   ],
   "source": [
    "from sklearn.svm import LinearSVC\n",
    "LSVM = LinearSVC()\n",
    "LSVM.fit(x_train, y_train)\n",
    "LSVM_clf = LSVM.predict(x_test)\n",
    "print (LSVM.score(x_train, y_train))\n",
    "print (accuracy_score(y_test, LSVM_clf))"
   ]
  },
  {
   "cell_type": "code",
   "execution_count": 15,
   "metadata": {},
   "outputs": [
    {
     "name": "stdout",
     "output_type": "stream",
     "text": [
      "0.84076\n",
      "0.83188\n"
     ]
    }
   ],
   "source": [
    "from sklearn.ensemble import AdaBoostClassifier\n",
    "ADA = AdaBoostClassifier(n_estimators=100)\n",
    "ADA.fit(x_train, y_train)\n",
    "ADA_clf = ADA.predict(x_test)\n",
    "print (ADA.score(x_train, y_train))\n",
    "print (accuracy_score(y_test, ADA_clf))"
   ]
  },
  {
   "cell_type": "code",
   "execution_count": 17,
   "metadata": {},
   "outputs": [
    {
     "name": "stdout",
     "output_type": "stream",
     "text": [
      "1.0\n",
      "0.84712\n"
     ]
    }
   ],
   "source": [
    "from sklearn.ensemble import RandomForestClassifier\n",
    "RFC = RandomForestClassifier(n_estimators=100, random_state = 42, n_jobs = -1)\n",
    "RFC.fit(x_train, y_train)\n",
    "RFC_clf = RFC.predict(x_test) \n",
    "print (RFC.score(x_train, y_train))\n",
    "print (accuracy_score(y_test, RFC_clf))"
   ]
  },
  {
   "cell_type": "code",
   "execution_count": 18,
   "metadata": {},
   "outputs": [
    {
     "name": "stdout",
     "output_type": "stream",
     "text": [
      "0.9172\n",
      "0.83308\n"
     ]
    }
   ],
   "source": [
    "from sklearn.naive_bayes import MultinomialNB\n",
    "MNB = MultinomialNB()\n",
    "MNB.fit(x_train, y_train)\n",
    "MNB_clf = MNB.predict(x_test)\n",
    "print (MNB.score(x_train, y_train))\n",
    "print (accuracy_score(y_test, MNB_clf))"
   ]
  },
  {
   "cell_type": "code",
   "execution_count": 19,
   "metadata": {},
   "outputs": [
    {
     "name": "stdout",
     "output_type": "stream",
     "text": [
      "              precision    recall  f1-score   support\n",
      "\n",
      "          -1       0.89      0.88      0.88     12500\n",
      "           1       0.88      0.89      0.88     12500\n",
      "\n",
      "   micro avg       0.88      0.88      0.88     25000\n",
      "   macro avg       0.88      0.88      0.88     25000\n",
      "weighted avg       0.88      0.88      0.88     25000\n",
      "\n"
     ]
    }
   ],
   "source": [
    "print(classification_report(y_test, LR_clf))"
   ]
  },
  {
   "cell_type": "code",
   "execution_count": 20,
   "metadata": {},
   "outputs": [
    {
     "name": "stderr",
     "output_type": "stream",
     "text": [
      "Using TensorFlow backend.\n"
     ]
    },
    {
     "data": {
      "text/plain": [
       "(25000, 1000)"
      ]
     },
     "execution_count": 20,
     "metadata": {},
     "output_type": "execute_result"
    }
   ],
   "source": [
    "from keras.preprocessing import sequence\n",
    "\n",
    "tfidf_NN = TfidfVectorizer(max_features = 1000)\n",
    "x_train_NN = tfidf_NN.fit_transform(df_train['prep_review'])\n",
    "y_train_NN = df_train['label']\n",
    "x_test_NN = tfidf_NN.transform(df_test['prep_review'])\n",
    "y_test_NN = df_test['label']\n",
    "x_train_NN.shape"
   ]
  },
  {
   "cell_type": "code",
   "execution_count": 21,
   "metadata": {},
   "outputs": [
    {
     "name": "stdout",
     "output_type": "stream",
     "text": [
      "_________________________________________________________________\n",
      "Layer (type)                 Output Shape              Param #   \n",
      "=================================================================\n",
      "dense_1 (Dense)              (None, 256)               256256    \n",
      "_________________________________________________________________\n",
      "dropout_1 (Dropout)          (None, 256)               0         \n",
      "_________________________________________________________________\n",
      "dense_2 (Dense)              (None, 200)               51400     \n",
      "_________________________________________________________________\n",
      "dropout_2 (Dropout)          (None, 200)               0         \n",
      "_________________________________________________________________\n",
      "dense_3 (Dense)              (None, 160)               32160     \n",
      "_________________________________________________________________\n",
      "dropout_3 (Dropout)          (None, 160)               0         \n",
      "_________________________________________________________________\n",
      "dense_4 (Dense)              (None, 120)               19320     \n",
      "_________________________________________________________________\n",
      "dropout_4 (Dropout)          (None, 120)               0         \n",
      "_________________________________________________________________\n",
      "dense_5 (Dense)              (None, 80)                9680      \n",
      "_________________________________________________________________\n",
      "dropout_5 (Dropout)          (None, 80)                0         \n",
      "_________________________________________________________________\n",
      "dense_6 (Dense)              (None, 1)                 81        \n",
      "=================================================================\n",
      "Total params: 368,897\n",
      "Trainable params: 368,897\n",
      "Non-trainable params: 0\n",
      "_________________________________________________________________\n"
     ]
    }
   ],
   "source": [
    "from keras.models import Sequential\n",
    "from keras.layers import LSTM, Convolution1D, Flatten, Dropout, Dense\n",
    "\n",
    "model = Sequential()\n",
    "model.add(Dense(256, input_shape=(1000,) , activation='relu'))\n",
    "model.add(Dropout(0.3))\n",
    "model.add(Dense(200, activation='relu'))\n",
    "model.add(Dropout(0.3))\n",
    "model.add(Dense(160, activation='relu'))\n",
    "model.add(Dropout(0.3))\n",
    "model.add(Dense(120, activation='relu'))\n",
    "model.add(Dropout(0.3))\n",
    "model.add(Dense(80, activation='relu'))\n",
    "model.add(Dropout(0.3))\n",
    "model.add(Dense(1, activation='sigmoid'))\n",
    "model.compile(loss='binary_crossentropy', optimizer='adam', metrics=['accuracy'])\n",
    "model.summary()\n"
   ]
  },
  {
   "cell_type": "code",
   "execution_count": 22,
   "metadata": {},
   "outputs": [
    {
     "name": "stdout",
     "output_type": "stream",
     "text": [
      "Epoch 1/10\n",
      "25000/25000 [==============================] - 2s 78us/step - loss: -4.1780 - acc: 0.2303\n",
      "Epoch 2/10\n",
      "25000/25000 [==============================] - 1s 55us/step - loss: -5.6521 - acc: 0.3910\n",
      "Epoch 3/10\n",
      "25000/25000 [==============================] - 1s 55us/step - loss: -5.9509 - acc: 0.4080\n",
      "Epoch 4/10\n",
      "25000/25000 [==============================] - 1s 54us/step - loss: -6.1325 - acc: 0.4228\n",
      "Epoch 5/10\n",
      "25000/25000 [==============================] - 1s 54us/step - loss: -6.2874 - acc: 0.4324\n",
      "Epoch 6/10\n",
      "25000/25000 [==============================] - ETA: 0s - loss: -6.4557 - acc: 0.43 - 1s 55us/step - loss: -6.4485 - acc: 0.4345\n",
      "Epoch 7/10\n",
      "25000/25000 [==============================] - 1s 55us/step - loss: -6.5364 - acc: 0.4426\n",
      "Epoch 8/10\n",
      "25000/25000 [==============================] - 1s 55us/step - loss: -6.6907 - acc: 0.4461\n",
      "Epoch 9/10\n",
      "25000/25000 [==============================] - 1s 55us/step - loss: -6.7616 - acc: 0.4508\n",
      "Epoch 10/10\n",
      "25000/25000 [==============================] - 1s 55us/step - loss: -6.8148 - acc: 0.4490\n"
     ]
    },
    {
     "data": {
      "text/plain": [
       "<keras.callbacks.History at 0x1a27337e48>"
      ]
     },
     "execution_count": 22,
     "metadata": {},
     "output_type": "execute_result"
    }
   ],
   "source": [
    "model.fit(x_train_NN, y_train_NN, batch_size=128, epochs=10, verbose=1)\n"
   ]
  },
  {
   "cell_type": "code",
   "execution_count": 23,
   "metadata": {},
   "outputs": [
    {
     "name": "stdout",
     "output_type": "stream",
     "text": [
      "25000/25000 [==============================] - 1s 46us/step\n",
      "-7.010489030947685 0.45948\n"
     ]
    }
   ],
   "source": [
    "loss, accuracy = model.evaluate(x_train_NN, y_train_NN)\n",
    "print (loss, accuracy)"
   ]
  },
  {
   "cell_type": "code",
   "execution_count": 24,
   "metadata": {},
   "outputs": [
    {
     "name": "stdout",
     "output_type": "stream",
     "text": [
      "0.40984\n"
     ]
    }
   ],
   "source": [
    "predictions = model.predict(x_test_NN)\n",
    "# round predictions\n",
    "rounded = [round(x[0]) for x in predictions]\n",
    "predictions = rounded\n",
    "# print (predictions)\n",
    "score = accuracy_score(y_test_NN ,predictions)\n",
    "print(score)\n"
   ]
  },
  {
   "cell_type": "code",
   "execution_count": null,
   "metadata": {},
   "outputs": [],
   "source": []
  },
  {
   "cell_type": "code",
   "execution_count": null,
   "metadata": {},
   "outputs": [],
   "source": []
  }
 ],
 "metadata": {
  "kernelspec": {
   "display_name": "Python 3",
   "language": "python",
   "name": "python3"
  },
  "language_info": {
   "codemirror_mode": {
    "name": "ipython",
    "version": 3
   },
   "file_extension": ".py",
   "mimetype": "text/x-python",
   "name": "python",
   "nbconvert_exporter": "python",
   "pygments_lexer": "ipython3",
   "version": "3.6.8"
  }
 },
 "nbformat": 4,
 "nbformat_minor": 2
}
